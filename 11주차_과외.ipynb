{
  "nbformat": 4,
  "nbformat_minor": 0,
  "metadata": {
    "colab": {
      "name": "11주차 과외.ipynb",
      "provenance": [],
      "authorship_tag": "ABX9TyO+DtU3Qld2EKouysNGFBPY",
      "include_colab_link": true
    },
    "kernelspec": {
      "name": "python3",
      "display_name": "Python 3"
    }
  },
  "cells": [
    {
      "cell_type": "markdown",
      "metadata": {
        "id": "view-in-github",
        "colab_type": "text"
      },
      "source": [
        "<a href=\"https://colab.research.google.com/github/lunaB/tutor_resource/blob/main/11%EC%A3%BC%EC%B0%A8_%EA%B3%BC%EC%99%B8.ipynb\" target=\"_parent\"><img src=\"https://colab.research.google.com/assets/colab-badge.svg\" alt=\"Open In Colab\"/></a>"
      ]
    },
    {
      "cell_type": "code",
      "metadata": {
        "id": "-pc7ueXxp-3a"
      },
      "source": [
        "import pandas as pd\n",
        "import numpy as np"
      ],
      "execution_count": 8,
      "outputs": []
    },
    {
      "cell_type": "code",
      "metadata": {
        "id": "sROK_t86q3hW"
      },
      "source": [
        "f = open('file.txt', mode='rt', encoding='utf-8')\n",
        "\n",
        "first_text = f.readline()\n",
        "name_area = first_text[:first_text.rfind(' 님')]\n",
        "names = name_area.split(', ')\n",
        "print('채팅방에 있는사람은 다음과 같습니다.')\n",
        "for name in names:\n",
        "    print(name)\n",
        "print(f.readline(), end='')\n",
        "print(f.readline(), end='')\n",
        "\n",
        "\n",
        "date = ''\n",
        "arr = []\n",
        "for line in f:\n",
        "    if line[0] == '-':\n",
        "        date = line.split('---------------')[1].strip()\n",
        "    elif line[0] == '[':\n",
        "        a = line\n",
        "        name = a[1:a.find(']')]\n",
        "        time = a[a.find(']')+3:a.find(']')+3+a[a.find(']')+3:].find(']')]\n",
        "        message = '] '.join(a.split('] ')[2:])[:-1]\n",
        "        arr.append([name, date+' '+time, message])\n",
        "df = pd.DataFrame(arr, columns=['name', 'datetime', 'message'])"
      ],
      "execution_count": null,
      "outputs": []
    },
    {
      "cell_type": "code",
      "metadata": {
        "id": "Ty3-b1Zn7X_r"
      },
      "source": [
        "df.head()"
      ],
      "execution_count": null,
      "outputs": []
    },
    {
      "cell_type": "code",
      "metadata": {
        "id": "RBlS3-uy-L0f"
      },
      "source": [
        "df.tail()"
      ],
      "execution_count": null,
      "outputs": []
    },
    {
      "cell_type": "code",
      "metadata": {
        "id": "xQR5uuT5-Nxy"
      },
      "source": [
        "df[ df['name'] == '19 김은하' ]['message'].str.contains('ㅋㅋㅋ')"
      ],
      "execution_count": null,
      "outputs": []
    },
    {
      "cell_type": "code",
      "metadata": {
        "id": "2vhnMqUX-XlR"
      },
      "source": [
        "곽 = df[ df['name'] == '' ]\n",
        "곽[곽['message'].str.contains('')]"
      ],
      "execution_count": null,
      "outputs": []
    },
    {
      "cell_type": "code",
      "metadata": {
        "id": "SYnWnMQI-wv0"
      },
      "source": [
        "arr = [\n",
        "    'ㅈㄴ',\n",
        "    'ㅅㅂ',\n",
        "    \n",
        "]\n",
        "\n",
        "for i in arr:\n",
        "    print(df[df['message'].str.contains(i)])"
      ],
      "execution_count": null,
      "outputs": []
    },
    {
      "cell_type": "code",
      "metadata": {
        "id": "5crFO_GKCEgb"
      },
      "source": [
        "# 람다 문법\n",
        "a = 0\n",
        "def apply(func):\n",
        "    a+=1\n",
        "    func(a)\n",
        "\n",
        "def f(x):\n",
        "    return x+1\n",
        "apply(f)\n",
        "\n",
        "apply(lambda x: x+1)"
      ],
      "execution_count": null,
      "outputs": []
    },
    {
      "cell_type": "code",
      "metadata": {
        "id": "V3EK04c5__uB"
      },
      "source": [
        "import matplotlib.pyplot as plt\n",
        "def func(x):\n",
        "    a = x.split(' ')\n",
        "    hour = 0\n",
        "    if a[4] == '오후':\n",
        "        hour = 12\n",
        "    hour += int(a[5].split(':')[0])\n",
        "    return hour\n",
        "time_df = df['datetime'].apply(func)"
      ],
      "execution_count": 112,
      "outputs": []
    },
    {
      "cell_type": "code",
      "metadata": {
        "id": "Zojyfy-nELlr"
      },
      "source": [
        "arr = np.zeros(24)\n",
        "t = time_df.values\n",
        "for i in range(len(t)):\n",
        "    arr[t[i]-1] += 1 "
      ],
      "execution_count": 120,
      "outputs": []
    },
    {
      "cell_type": "code",
      "metadata": {
        "colab": {
          "base_uri": "https://localhost:8080/",
          "height": 265
        },
        "id": "G_jQFgvgBcxu",
        "outputId": "163df8ca-def2-450e-9c99-2e4a74c2887e"
      },
      "source": [
        "plt.plot(range(1, 25), arr)\n",
        "plt.show()"
      ],
      "execution_count": 122,
      "outputs": [
        {
          "output_type": "display_data",
          "data": {
            "image/png": "[encoded data removed]",
            "text/plain": [
              "<Figure size 432x288 with 1 Axes>"
            ]
          },
          "metadata": {
            "tags": [],
            "needs_background": "light"
          }
        }
      ]
    }
  ]
}