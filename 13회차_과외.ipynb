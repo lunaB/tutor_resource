{
  "nbformat": 4,
  "nbformat_minor": 0,
  "metadata": {
    "colab": {
      "name": "13회차 과외",
      "provenance": [],
      "authorship_tag": "ABX9TyM0cD6Y8DuLQg3bPjHJlQHV",
      "include_colab_link": true
    },
    "kernelspec": {
      "name": "python3",
      "display_name": "Python 3"
    }
  },
  "cells": [
    {
      "cell_type": "markdown",
      "metadata": {
        "id": "view-in-github",
        "colab_type": "text"
      },
      "source": [
        "<a href=\"https://colab.research.google.com/github/lunaB/tutor_resource/blob/main/13%ED%9A%8C%EC%B0%A8_%EA%B3%BC%EC%99%B8.ipynb\" target=\"_parent\"><img src=\"https://colab.research.google.com/assets/colab-badge.svg\" alt=\"Open In Colab\"/></a>"
      ]
    },
    {
      "cell_type": "code",
      "metadata": {
        "id": "JdZAUFQgp9VU"
      },
      "source": [
        "class NN:\n",
        "    def __init__():\n",
        "        pass\n",
        "    def train():\n",
        "        pass\n",
        "    def query():\n",
        "        pass"
      ],
      "execution_count": null,
      "outputs": []
    },
    {
      "cell_type": "code",
      "metadata": {
        "colab": {
          "base_uri": "https://localhost:8080/"
        },
        "id": "gpPnIj0_6vkv",
        "outputId": "ef9cfec6-2901-47e0-c521-5c93de382feb"
      },
      "source": [
        "import matplotlib.pyplot as plt\n",
        "import numpy as np\n",
        "\n",
        "X = 3\n",
        "Y = 9\n",
        "W = 2\n",
        "a = 0.1\n",
        "\n",
        "O = W * X\n",
        "E = (Y - O)**2\n",
        "\n",
        "# dE/dW = dE/dO * dO/dW\n",
        "dEdW = (-2 * (Y - O)) * X\n",
        "W = W - a * dEdW\n",
        "\n",
        "print(W)\n",
        "\n",
        "# plt.plot()\n",
        "# plt.show()"
      ],
      "execution_count": 1,
      "outputs": [
        {
          "output_type": "stream",
          "text": [
            "3.8\n"
          ],
          "name": "stdout"
        }
      ]
    },
    {
      "cell_type": "code",
      "metadata": {
        "colab": {
          "base_uri": "https://localhost:8080/",
          "height": 265
        },
        "id": "RrYHmwzK8_MZ",
        "outputId": "14feca20-ed33-42b1-ebb8-a836449b0342"
      },
      "source": [
        "X = 3\n",
        "Y = 9\n",
        "a = 0.02\n",
        "\n",
        "xw = np.linspace(0, 6, 20)\n",
        "cost = []\n",
        "for W in xw:\n",
        "    O = W * X\n",
        "    E = (Y - O)**2\n",
        "    cost.append(E)\n",
        "\n",
        "plt.plot(xw, cost)\n",
        "plt.show()"
      ],
      "execution_count": 13,
      "outputs": [
        {
          "output_type": "display_data",
          "data": {
            "image/png": "[encoded data removed]",
            "text/plain": [
              "<Figure size 432x288 with 1 Axes>"
            ]
          },
          "metadata": {
            "tags": [],
            "needs_background": "light"
          }
        }
      ]
    },
    {
      "cell_type": "code",
      "metadata": {
        "colab": {
          "base_uri": "https://localhost:8080/",
          "height": 535
        },
        "id": "gtHo6QzH8g80",
        "outputId": "f16f4bc2-5932-44a0-fd86-650448429e5f"
      },
      "source": [
        "X = 3\n",
        "Y = 9\n",
        "W = 0\n",
        "a = 0.02\n",
        "\n",
        "plt.plot(xw, cost)\n",
        "\n",
        "for i in range(15):\n",
        "    O = W * X\n",
        "    E = (Y - O)**2\n",
        "    plt.scatter(W, E)\n",
        "\n",
        "    # dE/dW = dE/dO * dO/dW\n",
        "    dEdW = (-2 * (Y - O)) * X\n",
        "    W = W - a * dEdW\n",
        "    print(W)\n",
        "\n",
        "plt.show()"
      ],
      "execution_count": 18,
      "outputs": [
        {
          "output_type": "stream",
          "text": [
            "1.08\n",
            "1.7712\n",
            "2.213568\n",
            "2.49668352\n",
            "2.6778774528\n",
            "2.793841569792\n",
            "2.86805860466688\n",
            "2.9155575069868034\n",
            "2.945956804471554\n",
            "2.9654123548617943\n",
            "2.9778639071115482\n",
            "2.9858329005513906\n",
            "2.99093305635289\n",
            "2.99419715606585\n",
            "2.996286179882144\n"
          ],
          "name": "stdout"
        },
        {
          "output_type": "display_data",
          "data": {
            "image/png": "[encoded data removed]",
            "text/plain": [
              "<Figure size 432x288 with 1 Axes>"
            ]
          },
          "metadata": {
            "tags": [],
            "needs_background": "light"
          }
        }
      ]
    },
    {
      "cell_type": "code",
      "metadata": {
        "id": "MhOW65p7-UfD"
      },
      "source": [
        ""
      ],
      "execution_count": null,
      "outputs": []
    }
  ]
}