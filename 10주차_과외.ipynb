{
  "nbformat": 4,
  "nbformat_minor": 0,
  "metadata": {
    "colab": {
      "name": "10주차_과외.ipynb",
      "provenance": [],
      "authorship_tag": "ABX9TyMjQRCxqE/mw8gBoATaXj6T",
      "include_colab_link": true
    },
    "kernelspec": {
      "name": "python3",
      "display_name": "Python 3"
    }
  },
  "cells": [
    {
      "cell_type": "markdown",
      "metadata": {
        "id": "view-in-github",
        "colab_type": "text"
      },
      "source": [
        "<a href=\"https://colab.research.google.com/github/lunaB/tutor_resource/blob/main/10%EC%A3%BC%EC%B0%A8_%EA%B3%BC%EC%99%B8.ipynb\" target=\"_parent\"><img src=\"https://colab.research.google.com/assets/colab-badge.svg\" alt=\"Open In Colab\"/></a>"
      ]
    },
    {
      "cell_type": "code",
      "metadata": {
        "id": "u7YLv0UAsvyK"
      },
      "source": [
        ""
      ],
      "execution_count": 14,
      "outputs": []
    },
    {
      "cell_type": "code",
      "metadata": {
        "colab": {
          "base_uri": "https://localhost:8080/"
        },
        "id": "CDht4s7Ytrfg",
        "outputId": "ae0fc557-de89-4d3b-b87d-f6ae1cffb288"
      },
      "source": [
        "arr = [4,2,1,5,1,5,2,2,1]\n",
        "n = 5\n",
        "for i in range(len(arr)-(n-1)):\n",
        "    print(sum(arr[i:i+n]))"
      ],
      "execution_count": 30,
      "outputs": [
        {
          "output_type": "stream",
          "text": [
            "13\n",
            "14\n",
            "14\n",
            "15\n",
            "11\n"
          ],
          "name": "stdout"
        }
      ]
    },
    {
      "cell_type": "code",
      "metadata": {
        "colab": {
          "base_uri": "https://localhost:8080/"
        },
        "id": "BAPgq9wSt5Nr",
        "outputId": "2c39e912-360f-43dc-863c-583ac1356f69"
      },
      "source": [
        "arr = [4,2,1,5,1,5,2,2,1]\n",
        "arr[:3]"
      ],
      "execution_count": 43,
      "outputs": [
        {
          "output_type": "execute_result",
          "data": {
            "text/plain": [
              "[4, 2, 1]"
            ]
          },
          "metadata": {
            "tags": []
          },
          "execution_count": 43
        }
      ]
    },
    {
      "cell_type": "code",
      "metadata": {
        "colab": {
          "base_uri": "https://localhost:8080/"
        },
        "id": "-43dAPnq0XWP",
        "outputId": "41703c7c-b48f-43b0-e94b-15508702f400"
      },
      "source": [
        "arr = [[1,2,3],[2,3,4]]\n",
        "arr[0][0]"
      ],
      "execution_count": 45,
      "outputs": [
        {
          "output_type": "execute_result",
          "data": {
            "text/plain": [
              "1"
            ]
          },
          "metadata": {
            "tags": []
          },
          "execution_count": 45
        }
      ]
    },
    {
      "cell_type": "code",
      "metadata": {
        "colab": {
          "base_uri": "https://localhost:8080/"
        },
        "id": "g3zUi8BG1ueD",
        "outputId": "7a885c71-fbb2-4cd7-df8a-94d94348a8cb"
      },
      "source": [
        "# 딱지왕\n",
        "'''\n",
        "다음 20일동안의 딱지가격이 주워진다.\n",
        "초기자금은 (N)원 가지고 있고 0개의 딱지를 가지고 시작한다.\n",
        "학생은 매일매일 매점에서 딱지를 살지 말지 정한다.\n",
        "\n",
        "조건1) 5원 이하일경우 딱지를 구매하고 5원 초과일경우 구매하지 않는다.\n",
        "조건2) 딱지는 한번 구매할때 1개만 구매한다.\n",
        "조건3) 딱지를 살 돈이 없으면 구매하지 못한다.\n",
        "\n",
        "마지막날 가지고있는 딱지 개수와 남은 돈을 출력한다.\n",
        "\n",
        "입력예시\n",
        "[10, 3, 6, 1, 1, 2, 7, 4, 5, 1, 1, 5, 2, 3, 4, 7, 1, 7, 9, 10]\n",
        "출력예시\n",
        "x, y\n",
        "'''\n",
        "import random\n",
        "l = []\n",
        "for i in range(20):\n",
        "    l.append(random.randint(1, 10))\n",
        "print(l)"
      ],
      "execution_count": 60,
      "outputs": [
        {
          "output_type": "stream",
          "text": [
            "[10, 3, 6, 1, 1, 2, 7, 4, 5, 1, 1, 5, 2, 3, 4, 7, 1, 7, 9, 10]\n"
          ],
          "name": "stdout"
        }
      ]
    },
    {
      "cell_type": "code",
      "metadata": {
        "colab": {
          "base_uri": "https://localhost:8080/"
        },
        "id": "jcRzJvmP4qf7",
        "outputId": "4d142f69-f82f-469e-b5a8-388c52cb1bfb"
      },
      "source": [
        "# 조건추가\n",
        "'''\n",
        "학생은 매점에 들렸다가 같은날 학원도 간다 \n",
        "조건1) 학원에서 70% 확률로 딱지의 수를 2배로 얻는다. (대단한 도박사!!)\n",
        "조건2) 10%확률로 모두 잃는다.\n",
        "'''\n",
        "rand = random.random()\n",
        "if rand < 0.7:\n",
        "    pass\n",
        "elif 0.7 <= rand and rand < 0.8:\n",
        "    pass"
      ],
      "execution_count": 62,
      "outputs": [
        {
          "output_type": "execute_result",
          "data": {
            "text/plain": [
              "0.1769066626772292"
            ]
          },
          "metadata": {
            "tags": []
          },
          "execution_count": 62
        }
      ]
    },
    {
      "cell_type": "code",
      "metadata": {
        "id": "5fdtN7ZS5aqM"
      },
      "source": [
        "# 조건추가\n",
        "'''\n",
        "조건1) matplotlib를 이용하여 딱지의 증가/감소 추이를 그래프로 출력해본다\n",
        "조건2) 돈 감소 추이를 그래프로 출력해본다\n",
        "'''"
      ],
      "execution_count": null,
      "outputs": []
    },
    {
      "cell_type": "code",
      "metadata": {
        "id": "75f0uF9T-5Ul"
      },
      "source": [
        "# 조건추가\n",
        "'''\n",
        "조건1) 딱지를 사서 뜯어봤는데 전설딱지가 나왔다. 10퍼센트 확률로 나온다.\n",
        "조건2) 전설딱지는 딱지치기용이 아니다. 매점에서 전설딱지만 취급한는 옆반 재민이한테 딱지를 판매하는 시점 가격에 2배에 팔 수 있다.\n",
        "조건3) 재민이는 짝수일에만 딱지를 산다.\n",
        "\n",
        "주의) 하루 루틴은 딱지구매 -> 딱지판매 -> 딱지치기 이다\n",
        "'''"
      ],
      "execution_count": null,
      "outputs": []
    },
    {
      "cell_type": "code",
      "metadata": {
        "id": "ZwuVuPVZD28q"
      },
      "source": [
        ""
      ],
      "execution_count": null,
      "outputs": []
    }
  ]
}