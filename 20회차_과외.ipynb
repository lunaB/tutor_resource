{
  "nbformat": 4,
  "nbformat_minor": 0,
  "metadata": {
    "colab": {
      "name": "20회차_과외.ipynb",
      "provenance": [],
      "authorship_tag": "ABX9TyNEoumN6AYtJtE5nuxXol94",
      "include_colab_link": true
    },
    "kernelspec": {
      "name": "python3",
      "display_name": "Python 3"
    },
    "language_info": {
      "name": "python"
    }
  },
  "cells": [
    {
      "cell_type": "markdown",
      "metadata": {
        "id": "view-in-github",
        "colab_type": "text"
      },
      "source": [
        "<a href=\"https://colab.research.google.com/github/lunaB/tutor_resource/blob/main/20%ED%9A%8C%EC%B0%A8_%EA%B3%BC%EC%99%B8.ipynb\" target=\"_parent\"><img src=\"https://colab.research.google.com/assets/colab-badge.svg\" alt=\"Open In Colab\"/></a>"
      ]
    },
    {
      "cell_type": "code",
      "metadata": {
        "id": "x4n2c2Wd2yyA"
      },
      "source": [
        "!mkdir -p ~/.kaggle\n",
        "!cp kaggle.json ~/.kaggle/\n",
        "!chmod 600 ~/.kaggle/kaggle.json"
      ],
      "execution_count": 1,
      "outputs": []
    },
    {
      "cell_type": "code",
      "metadata": {
        "colab": {
          "base_uri": "https://localhost:8080/"
        },
        "id": "w5tPK8-h57iA",
        "outputId": "7286dbe9-3ab7-4ea9-d204-2fea41cdee60"
      },
      "source": [
        "!kaggle competitions download -c titanic"
      ],
      "execution_count": 2,
      "outputs": [
        {
          "output_type": "stream",
          "text": [
            "Warning: Looks like you're using an outdated API Version, please consider updating (server 1.5.12 / client 1.5.4)\n",
            "Downloading train.csv to /content\n",
            "  0% 0.00/59.8k [00:00<?, ?B/s]\n",
            "100% 59.8k/59.8k [00:00<00:00, 24.1MB/s]\n",
            "Downloading gender_submission.csv to /content\n",
            "  0% 0.00/3.18k [00:00<?, ?B/s]\n",
            "100% 3.18k/3.18k [00:00<00:00, 2.51MB/s]\n",
            "Downloading test.csv to /content\n",
            "  0% 0.00/28.0k [00:00<?, ?B/s]\n",
            "100% 28.0k/28.0k [00:00<00:00, 23.7MB/s]\n"
          ],
          "name": "stdout"
        }
      ]
    },
    {
      "cell_type": "code",
      "metadata": {
        "id": "RBxPm8CG57kd"
      },
      "source": [
        "import pandas as pd\n",
        "import numpy as np\n",
        "\n",
        "train_df = pd.read_csv('train.csv')\n",
        "train_df = train_df[['Survived','Pclass','Sex','Fare']]\n",
        "\n",
        "test_df = pd.read_csv('test.csv')\n",
        "test_df = test_df[['Pclass','Sex','Fare']]"
      ],
      "execution_count": 5,
      "outputs": []
    },
    {
      "cell_type": "code",
      "metadata": {
        "colab": {
          "base_uri": "https://localhost:8080/"
        },
        "id": "1v0Rb3t-57nq",
        "outputId": "fab86638-2b15-49f6-ca7d-f23cba087ce4"
      },
      "source": [
        "train_df.loc[:,'Sex'] = train_df.loc[:,'Sex'].str.replace('female', '0').replace('male', '1')\n",
        "train_df['Sex'] = train_df['Sex'].astype(np.int32)\n",
        "train_df[['Pclass','Sex','Fare']].values"
      ],
      "execution_count": 6,
      "outputs": [
        {
          "output_type": "execute_result",
          "data": {
            "text/plain": [
              "array([[ 3.    ,  1.    ,  7.25  ],\n",
              "       [ 1.    ,  0.    , 71.2833],\n",
              "       [ 3.    ,  0.    ,  7.925 ],\n",
              "       ...,\n",
              "       [ 3.    ,  0.    , 23.45  ],\n",
              "       [ 1.    ,  1.    , 30.    ],\n",
              "       [ 3.    ,  1.    ,  7.75  ]])"
            ]
          },
          "metadata": {
            "tags": []
          },
          "execution_count": 6
        }
      ]
    },
    {
      "cell_type": "code",
      "metadata": {
        "colab": {
          "base_uri": "https://localhost:8080/"
        },
        "id": "cKYQkyY157qy",
        "outputId": "e7915952-3688-49a2-d714-6d7d6943a959"
      },
      "source": [
        "import torch \n",
        "import torch.nn as nn\n",
        "import torch.optim as optim\n",
        "\n",
        "x_train = torch.FloatTensor(train_df[['Pclass','Sex','Fare']].values)\n",
        "y_train = torch.LongTensor(train_df['Survived'].values)\n",
        "\n",
        "model = nn.Linear(3, 2)\n",
        "\n",
        "optimizer = optim.Adam(model.parameters(), lr=0.01)\n",
        "loss = nn.CrossEntropyLoss()\n",
        "\n",
        "for i in range(100):\n",
        "    y = model(x_train)\n",
        "    \n",
        "    cost = loss(y, y_train)\n",
        "    optimizer.zero_grad()\n",
        "    cost.backward()\n",
        "    optimizer.step()\n",
        "    if i%10 == 0:\n",
        "        print(i, cost.item(), '%.2f%%'%((model(x_train).argmax(1) == y_train).float().mean()*100))\n"
      ],
      "execution_count": 21,
      "outputs": [
        {
          "output_type": "stream",
          "text": [
            "0 14.866499900817871 39.84%\n",
            "10 11.609554290771484 39.84%\n",
            "20 8.366689682006836 39.84%\n",
            "30 5.243552207946777 40.07%\n",
            "40 2.683316230773926 62.07%\n",
            "50 1.143168330192566 68.13%\n",
            "60 1.0604337453842163 62.74%\n",
            "70 0.8842207193374634 68.91%\n",
            "80 0.8626347184181213 68.46%\n",
            "90 0.7853472828865051 68.69%\n"
          ],
          "name": "stdout"
        }
      ]
    },
    {
      "cell_type": "code",
      "metadata": {
        "colab": {
          "base_uri": "https://localhost:8080/"
        },
        "id": "8YyLN3bG6MR0",
        "outputId": "c0c4d2b4-8bcb-4bf2-c9f4-d53564f1fd77"
      },
      "source": [
        "W = torch.zeros((3, 2))\n",
        "W\n",
        "b = torch.zeros(2)"
      ],
      "execution_count": 24,
      "outputs": [
        {
          "output_type": "execute_result",
          "data": {
            "text/plain": [
              "tensor([[0., 0., 0.],\n",
              "        [0., 0., 0.]])"
            ]
          },
          "metadata": {
            "tags": []
          },
          "execution_count": 24
        }
      ]
    },
    {
      "cell_type": "code",
      "metadata": {
        "colab": {
          "base_uri": "https://localhost:8080/"
        },
        "id": "AhGaod4XEmxO",
        "outputId": "e7b0f181-6cc0-4f57-ef5c-8c7fc321f3de"
      },
      "source": [
        "a = nn.Linear(3,2)\n",
        "a"
      ],
      "execution_count": 25,
      "outputs": [
        {
          "output_type": "execute_result",
          "data": {
            "text/plain": [
              "Linear(in_features=3, out_features=2, bias=True)"
            ]
          },
          "metadata": {
            "tags": []
          },
          "execution_count": 25
        }
      ]
    },
    {
      "cell_type": "code",
      "metadata": {
        "id": "tyV3hyBJEp9j"
      },
      "source": [
        "softmax_y = torch.functional.F.softmax(torch.FloatTensor([[0.1,0.2,0.9,0.8],[0.1,0.2,0.9,0.8]]), dim=1)"
      ],
      "execution_count": 38,
      "outputs": []
    },
    {
      "cell_type": "code",
      "metadata": {
        "colab": {
          "base_uri": "https://localhost:8080/"
        },
        "id": "srHp0JucG71X",
        "outputId": "59ff6fa5-1062-436c-c585-37f7529b47fb"
      },
      "source": [
        "softmax_y.argmax(dim=1)"
      ],
      "execution_count": 40,
      "outputs": [
        {
          "output_type": "execute_result",
          "data": {
            "text/plain": [
              "tensor([2, 2])"
            ]
          },
          "metadata": {
            "tags": []
          },
          "execution_count": 40
        }
      ]
    },
    {
      "cell_type": "code",
      "metadata": {
        "id": "_tmP1qT2KZP9"
      },
      "source": [
        "dictionary = ['토끼', '뱀', '고양이']"
      ],
      "execution_count": 74,
      "outputs": []
    },
    {
      "cell_type": "code",
      "metadata": {
        "colab": {
          "base_uri": "https://localhost:8080/"
        },
        "id": "YSdIhAt4Hv6c",
        "outputId": "4f65ad8a-ebaf-4a97-ba59-7c9b2c5f3d0b"
      },
      "source": [
        "X = torch.FloatTensor([[0.2,0.3,0.9],\n",
        "                       [0.5,0.7,0.9]])\n",
        "\n",
        "Yhat = torch.LongTensor([1,0])\n",
        "\n",
        "W = torch.randn((3,3), requires_grad=True)\n",
        "b = torch.randn((3,), requires_grad=True)\n",
        "\n",
        "Y = X.matmul(W)+b\n",
        "Y"
      ],
      "execution_count": 81,
      "outputs": [
        {
          "output_type": "execute_result",
          "data": {
            "text/plain": [
              "tensor([[1.8255, 2.0213, 0.3032],\n",
              "        [1.7722, 3.1658, 0.7909]], grad_fn=<AddBackward0>)"
            ]
          },
          "metadata": {
            "tags": []
          },
          "execution_count": 81
        }
      ]
    },
    {
      "cell_type": "code",
      "metadata": {
        "colab": {
          "base_uri": "https://localhost:8080/"
        },
        "id": "YS0setqnJQyX",
        "outputId": "ff73aa6c-6aba-4f56-d0e6-fdf6ac58d88b"
      },
      "source": [
        "softmax_y = torch.functional.F.softmax(Y, dim=1)\n",
        "softmax_y"
      ],
      "execution_count": 66,
      "outputs": [
        {
          "output_type": "execute_result",
          "data": {
            "text/plain": [
              "tensor([[0.4968, 0.0439, 0.4594],\n",
              "        [0.2550, 0.0244, 0.7207]])"
            ]
          },
          "metadata": {
            "tags": []
          },
          "execution_count": 66
        }
      ]
    },
    {
      "cell_type": "code",
      "metadata": {
        "colab": {
          "base_uri": "https://localhost:8080/"
        },
        "id": "7QnGYTAhJdd-",
        "outputId": "555ad541-2a38-4267-ea5f-f9e256302e86"
      },
      "source": [
        "ans = softmax_y.argmax(dim=1)\n",
        "print(ans)\n",
        "print(dictionary[ans[0]])\n",
        "print(dictionary[ans[1]])"
      ],
      "execution_count": 76,
      "outputs": [
        {
          "output_type": "stream",
          "text": [
            "tensor([0, 2])\n",
            "토끼\n",
            "고양이\n"
          ],
          "name": "stdout"
        }
      ]
    },
    {
      "cell_type": "code",
      "metadata": {
        "colab": {
          "base_uri": "https://localhost:8080/"
        },
        "id": "P5Cez3_kJ1o7",
        "outputId": "aa142b61-494d-444d-efb1-786bf602213d"
      },
      "source": [
        "(ans == Yhat).float().mean()"
      ],
      "execution_count": 73,
      "outputs": [
        {
          "output_type": "execute_result",
          "data": {
            "text/plain": [
              "tensor(0.)"
            ]
          },
          "metadata": {
            "tags": []
          },
          "execution_count": 73
        }
      ]
    },
    {
      "cell_type": "code",
      "metadata": {
        "colab": {
          "base_uri": "https://localhost:8080/"
        },
        "id": "Rrg36euAJ3ud",
        "outputId": "fe8a5045-545f-4869-faea-f182a0a5b4b4"
      },
      "source": [
        "error = torch.functional.F.cross_entropy(Y, Yhat)"
      ],
      "execution_count": 79,
      "outputs": [
        {
          "output_type": "execute_result",
          "data": {
            "text/plain": [
              "tensor(2.2466)"
            ]
          },
          "metadata": {
            "tags": []
          },
          "execution_count": 79
        }
      ]
    },
    {
      "cell_type": "code",
      "metadata": {
        "colab": {
          "base_uri": "https://localhost:8080/"
        },
        "id": "8BrRP8a2R_wi",
        "outputId": "e68e0b07-d07e-4d9a-d879-89c1265674d0"
      },
      "source": [
        "# 방법1\n",
        "X = torch.FloatTensor([[0.2,0.3,0.9],\n",
        "                       [0.5,0.7,0.9]])\n",
        "\n",
        "Yhat = torch.LongTensor([1,0])\n",
        "\n",
        "W = torch.randn((3,3), requires_grad=True)\n",
        "b = torch.randn((3,), requires_grad=True)\n",
        "\n",
        "optimizer = optim.SGD([W,b], lr=0.01)\n",
        "\n",
        "for i in range(5000):\n",
        "    Y = X.matmul(W)+b\n",
        "    softmax_y = torch.functional.F.softmax(Y, dim=1)\n",
        "    error = torch.functional.F.cross_entropy(Y, Yhat)\n",
        "\n",
        "    if i%500 == 0:\n",
        "        print(error.item(), (softmax_y.argmax(dim=1) == Yhat).float().mean())\n",
        "\n",
        "    optimizer.zero_grad()\n",
        "    error.backward()\n",
        "    optimizer.step()"
      ],
      "execution_count": 89,
      "outputs": [
        {
          "output_type": "stream",
          "text": [
            "1.6411867141723633 tensor(0.)\n",
            "0.595460057258606 tensor(1.)\n",
            "0.47965008020401 tensor(1.)\n",
            "0.4072633385658264 tensor(1.)\n",
            "0.3533758521080017 tensor(1.)\n",
            "0.31114768981933594 tensor(1.)\n",
            "0.27715209126472473 tensor(1.)\n",
            "0.2492634803056717 tensor(1.)\n",
            "0.22603845596313477 tensor(1.)\n",
            "0.20644986629486084 tensor(1.)\n"
          ],
          "name": "stdout"
        }
      ]
    },
    {
      "cell_type": "code",
      "metadata": {
        "colab": {
          "base_uri": "https://localhost:8080/"
        },
        "id": "BntQq4xeTENg",
        "outputId": "82b2741a-7ca3-4450-a556-20cf904d0fab"
      },
      "source": [
        "# 방법2\n",
        "X = torch.FloatTensor([[0.2,0.3,0.9],\n",
        "                       [0.5,0.7,0.9]])\n",
        "\n",
        "Yhat = torch.LongTensor([1,0])\n",
        "\n",
        "model = nn.Linear(3,2)\n",
        "optimizer = optim.SGD(model.parameters(), lr=0.01)\n",
        "loss = nn.CrossEntropyLoss()\n",
        "\n",
        "for i in range(5000):\n",
        "\n",
        "    Y = model(X)\n",
        "    softmax_y = torch.functional.F.softmax(Y, dim=1)\n",
        "    cost = loss(Y, Yhat)\n",
        "    if i%500 == 0:\n",
        "        print(cost.item(), (softmax_y.argmax(dim=1) == Yhat).float().mean())\n",
        "\n",
        "    optimizer.zero_grad()\n",
        "    cost.backward()\n",
        "    optimizer.step()"
      ],
      "execution_count": 94,
      "outputs": [
        {
          "output_type": "stream",
          "text": [
            "0.6907826066017151 tensor(0.5000)\n",
            "0.5619001388549805 tensor(1.)\n",
            "0.47742143273353577 tensor(1.)\n",
            "0.41116052865982056 tensor(1.)\n",
            "0.3585607409477234 tensor(1.)\n",
            "0.3162539303302765 tensor(1.)\n",
            "0.2817738950252533 tensor(1.)\n",
            "0.25331348180770874 tensor(1.)\n",
            "0.2295401692390442 tensor(1.)\n",
            "0.20946243405342102 tensor(1.)\n"
          ],
          "name": "stdout"
        }
      ]
    },
    {
      "cell_type": "code",
      "metadata": {
        "id": "aGrQa0mTURAZ"
      },
      "source": [
        ""
      ],
      "execution_count": null,
      "outputs": []
    }
  ]
}