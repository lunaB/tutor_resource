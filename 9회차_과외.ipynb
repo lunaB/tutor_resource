{
  "nbformat": 4,
  "nbformat_minor": 0,
  "metadata": {
    "colab": {
      "name": "9회차_과외.ipynb",
      "provenance": [],
      "authorship_tag": "ABX9TyOXtkisE2q6uXGKLtgPQCAs",
      "include_colab_link": true
    },
    "kernelspec": {
      "display_name": "Python 3",
      "name": "python3"
    }
  },
  "cells": [
    {
      "cell_type": "markdown",
      "metadata": {
        "id": "view-in-github",
        "colab_type": "text"
      },
      "source": [
        "<a href=\"https://colab.research.google.com/github/lunaB/tutor_resource/blob/main/9%ED%9A%8C%EC%B0%A8_%EA%B3%BC%EC%99%B8.ipynb\" target=\"_parent\"><img src=\"https://colab.research.google.com/assets/colab-badge.svg\" alt=\"Open In Colab\"/></a>"
      ]
    },
    {
      "cell_type": "code",
      "metadata": {
        "id": "7k08WyTzm65V"
      },
      "source": [
        "import numpy as np\n",
        "import matplotlib.pyplot as plt"
      ],
      "execution_count": null,
      "outputs": []
    },
    {
      "cell_type": "code",
      "metadata": {
        "id": "poFwgVr1nBL5"
      },
      "source": [
        "a = np.array([[1,2,3]])\n",
        "b = np.array([[1],\n",
        "              [2],\n",
        "              [3]])"
      ],
      "execution_count": null,
      "outputs": []
    },
    {
      "cell_type": "code",
      "metadata": {
        "id": "aMd1VykEnOQh"
      },
      "source": [
        "c = np.dot(a, b)"
      ],
      "execution_count": null,
      "outputs": []
    },
    {
      "cell_type": "code",
      "metadata": {
        "colab": {
          "base_uri": "https://localhost:8080/"
        },
        "id": "6fFia1ldnpY1",
        "outputId": "f1ea2b50-c79d-42f9-8d7b-33173900603a"
      },
      "source": [
        "w11 = 0.8\n",
        "w12 = 0.2\n",
        "w21 = 0.3\n",
        "w22 = 0.5\n",
        "\n",
        "x1 = 0.7\n",
        "x2 = 1.1\n",
        "\n",
        "y1 = w11 * x1 + w21 * x2\n",
        "y2 = w12 * x1 + w22 * x2\n",
        "\n",
        "print(y1, y2)"
      ],
      "execution_count": null,
      "outputs": [
        {
          "output_type": "stream",
          "text": [
            "0.8899999999999999 0.6900000000000001\n"
          ],
          "name": "stdout"
        }
      ]
    },
    {
      "cell_type": "code",
      "metadata": {
        "colab": {
          "base_uri": "https://localhost:8080/"
        },
        "id": "9je-WFGNpAcq",
        "outputId": "390d76d7-a9a8-4ab5-cb97-0d10d51b6cfe"
      },
      "source": [
        "x = np.array([[x1, x2]])\n",
        "\n",
        "h1 = np.array([[0.2, 0.5, 0.2],\n",
        "              [0.1, 0.2, 0.5]])\n",
        "h2 = np.array([[0.2, 0.5, 0.2],\n",
        "              [0.1, 0.2, 0.5],\n",
        "               [0.1, 0.2, 0.5]])\n",
        "\n",
        "y = np.array([[w11, w12],\n",
        "              [w21, w22],\n",
        "              [0.3, 0.9]])\n",
        "\n",
        "o = x.dot(h1)\n",
        "o = o.dot(h2)\n",
        "\n",
        "o = o.dot(y)\n",
        "\n",
        "o"
      ],
      "execution_count": null,
      "outputs": [
        {
          "output_type": "execute_result",
          "data": {
            "text/plain": [
              "array([[0.4579, 0.8357]])"
            ]
          },
          "metadata": {
            "tags": []
          },
          "execution_count": 27
        }
      ]
    },
    {
      "cell_type": "code",
      "metadata": {
        "colab": {
          "base_uri": "https://localhost:8080/"
        },
        "id": "67RcosCmpfzC",
        "outputId": "76077be0-32d9-4da6-ccf6-e89b59621755"
      },
      "source": [
        "print(h1.shape)\n",
        "print(y.shape)"
      ],
      "execution_count": null,
      "outputs": [
        {
          "output_type": "stream",
          "text": [
            "(2, 3)\n",
            "(3, 2)\n"
          ],
          "name": "stdout"
        }
      ]
    },
    {
      "cell_type": "code",
      "metadata": {
        "colab": {
          "base_uri": "https://localhost:8080/"
        },
        "id": "72Z36an-r8oa",
        "outputId": "d4e551c2-ff41-45a8-d558-985bb89ea1b6"
      },
      "source": [
        "np.sin([0, np.pi/2])"
      ],
      "execution_count": null,
      "outputs": [
        {
          "output_type": "execute_result",
          "data": {
            "text/plain": [
              "array([0., 1.])"
            ]
          },
          "metadata": {
            "tags": []
          },
          "execution_count": 38
        }
      ]
    },
    {
      "cell_type": "code",
      "metadata": {
        "colab": {
          "base_uri": "https://localhost:8080/",
          "height": 265
        },
        "id": "tQI_9J0yso3K",
        "outputId": "e6063be7-9d52-42ea-b455-53658d2a9ca0"
      },
      "source": [
        "plt.plot([0,np.pi/2,np.pi,np.pi/2*3,np.pi*2], np.sin([0,np.pi/2,np.pi,np.pi/2*3,np.pi*2]))\n",
        "plt.show()"
      ],
      "execution_count": 46,
      "outputs": [
        {
          "output_type": "display_data",
          "data": {
            "image/png": "[encoded data removed]",
            "text/plain": [
              "<Figure size 432x288 with 1 Axes>"
            ]
          },
          "metadata": {
            "tags": [],
            "needs_background": "light"
          }
        }
      ]
    },
    {
      "cell_type": "code",
      "metadata": {
        "id": "nYl0ZbiUtXYt",
        "colab": {
          "base_uri": "https://localhost:8080/",
          "height": 265
        },
        "outputId": "843ed902-2116-4657-bc8f-6ae4b3cc1a54"
      },
      "source": [
        "a = np.linspace(0, np.pi*2, 1000)\n",
        "plt.plot(a, np.sin(a))\n",
        "plt.show()"
      ],
      "execution_count": 49,
      "outputs": [
        {
          "output_type": "display_data",
          "data": {
            "image/png": "[encoded data removed]",
            "text/plain": [
              "<Figure size 432x288 with 1 Axes>"
            ]
          },
          "metadata": {
            "tags": [],
            "needs_background": "light"
          }
        }
      ]
    },
    {
      "cell_type": "code",
      "metadata": {
        "colab": {
          "base_uri": "https://localhost:8080/"
        },
        "id": "0wvhH4Hdx7NT",
        "outputId": "8eceb44e-9774-4c60-9dc6-983aa5602326"
      },
      "source": [
        "a = np.array([2,3,4])\n",
        "\n",
        "a * 2"
      ],
      "execution_count": 55,
      "outputs": [
        {
          "output_type": "execute_result",
          "data": {
            "text/plain": [
              "array([4, 6, 8])"
            ]
          },
          "metadata": {
            "tags": []
          },
          "execution_count": 55
        }
      ]
    },
    {
      "cell_type": "code",
      "metadata": {
        "id": "mCqxaJUdyGFG"
      },
      "source": [
        ""
      ],
      "execution_count": null,
      "outputs": []
    }
  ]
}